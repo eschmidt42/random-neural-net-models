{
 "cells": [
  {
   "cell_type": "markdown",
   "metadata": {},
   "source": [
    "based on https://github.com/karpathy/minGPT/blob/master/demo.ipynb"
   ]
  },
  {
   "cell_type": "code",
   "execution_count": null,
   "metadata": {},
   "outputs": [],
   "source": [
    "%load_ext autoreload\n",
    "%autoreload 2"
   ]
  },
  {
   "cell_type": "code",
   "execution_count": null,
   "metadata": {},
   "outputs": [],
   "source": [
    "import torch\n",
    "from torch.utils.data.dataloader import DataLoader\n",
    "\n",
    "import random_neural_net_models.mingpt.data as gpt_data\n",
    "import random_neural_net_models.mingpt.model as gpt_model\n",
    "import random_neural_net_models.mingpt.trainer as gpt_trainer\n",
    "import random_neural_net_models.mingpt.utils as gpt_utils\n",
    "\n",
    "gpt_utils.set_seed(3407)"
   ]
  },
  {
   "cell_type": "code",
   "execution_count": null,
   "metadata": {},
   "outputs": [],
   "source": [
    "# print an example instance of the dataset\n",
    "train_dataset = gpt_data.SortDataset(\"train\")\n",
    "test_dataset = gpt_data.SortDataset(\"test\")\n",
    "x, y = train_dataset[0]\n",
    "for a, b in zip(x, y):\n",
    "    print(int(a), int(b))"
   ]
  },
  {
   "cell_type": "code",
   "execution_count": null,
   "metadata": {},
   "outputs": [],
   "source": [
    "model_config = gpt_model.GPT.get_config(\n",
    "    model_type=\"gpt-nano\",\n",
    "    vocab_size=train_dataset.get_vocab_size(),\n",
    "    block_size=train_dataset.get_block_size(),\n",
    ")\n",
    "model = gpt_model.GPT(model_config)"
   ]
  },
  {
   "cell_type": "code",
   "execution_count": null,
   "metadata": {},
   "outputs": [],
   "source": [
    "train_config = gpt_trainer.Trainer.get_config(\n",
    "    learning_rate=5e-4,  # the model we're using is so small that we can go a bit faster\n",
    "    max_iters=2000,\n",
    "    num_workers=0,\n",
    ")\n",
    "\n",
    "trainer = gpt_trainer.Trainer(train_config, model, train_dataset)"
   ]
  },
  {
   "cell_type": "code",
   "execution_count": null,
   "metadata": {},
   "outputs": [],
   "source": [
    "def batch_end_callback(trainer):\n",
    "    if trainer.iter_num % 100 == 0:\n",
    "        print(\n",
    "            f\"iter_dt {trainer.iter_dt * 1000:.2f}ms; iter {trainer.iter_num}: train loss {trainer.loss.item():.5f}\"\n",
    "        )\n",
    "\n",
    "\n",
    "trainer.set_callback(\"on_batch_end\", batch_end_callback)\n",
    "\n",
    "trainer.run()"
   ]
  },
  {
   "cell_type": "code",
   "execution_count": null,
   "metadata": {},
   "outputs": [],
   "source": [
    "# now let's perform some evaluation\n",
    "model.eval();"
   ]
  },
  {
   "cell_type": "code",
   "execution_count": null,
   "metadata": {},
   "outputs": [],
   "source": [
    "def eval_split(trainer, split, max_batches):\n",
    "    dataset = {\"train\": train_dataset, \"test\": test_dataset}[split]\n",
    "    n = train_dataset.length  # naugy direct access shrug\n",
    "    results = []\n",
    "    mistakes_printed_already = 0\n",
    "    loader = DataLoader(dataset, batch_size=100, num_workers=0, drop_last=False)\n",
    "    for b, (x, y) in enumerate(loader):\n",
    "        x = x.to(trainer.device)\n",
    "        y = y.to(trainer.device)\n",
    "        # isolate the input pattern alone\n",
    "        inp = x[:, :n]\n",
    "        sol = y[:, -n:]\n",
    "        # let the model sample the rest of the sequence\n",
    "        cat = model.generate(\n",
    "            inp, n, do_sample=False\n",
    "        )  # using greedy argmax, not sampling\n",
    "        sol_candidate = cat[:, n:]  # isolate the filled in sequence\n",
    "        # compare the predicted sequence to the true sequence\n",
    "        correct = (\n",
    "            (sol == sol_candidate).all(1).cpu()\n",
    "        )  # Software 1.0 vs. Software 2.0 fight RIGHT on this line haha\n",
    "        for i in range(x.size(0)):\n",
    "            results.append(int(correct[i]))\n",
    "            if (\n",
    "                not correct[i] and mistakes_printed_already < 3\n",
    "            ):  # only print up to 5 mistakes to get a sense\n",
    "                mistakes_printed_already += 1\n",
    "                print(\n",
    "                    \"GPT claims that %s sorted is %s but gt is %s\"\n",
    "                    % (\n",
    "                        inp[i].tolist(),\n",
    "                        sol_candidate[i].tolist(),\n",
    "                        sol[i].tolist(),\n",
    "                    )\n",
    "                )\n",
    "        if max_batches is not None and b + 1 >= max_batches:\n",
    "            break\n",
    "    rt = torch.tensor(results, dtype=torch.float)\n",
    "    print(\n",
    "        \"%s final score: %d/%d = %.2f%% correct\"\n",
    "        % (split, rt.sum(), len(results), 100 * rt.mean())\n",
    "    )\n",
    "    return rt.sum()\n",
    "\n",
    "\n",
    "# run a lot of examples from both train and test through the model and verify the output correctness\n",
    "with torch.no_grad():\n",
    "    train_score = eval_split(trainer, \"train\", max_batches=50)\n",
    "    test_score = eval_split(trainer, \"test\", max_batches=50)"
   ]
  },
  {
   "cell_type": "code",
   "execution_count": null,
   "metadata": {},
   "outputs": [],
   "source": [
    "# let's run a random given sequence through the model as well\n",
    "n = train_dataset.length  # naugy direct access shrug\n",
    "inp = torch.tensor([[0, 0, 2, 1, 0, 1]], dtype=torch.long).to(trainer.device)\n",
    "assert inp[0].nelement() == n\n",
    "with torch.no_grad():\n",
    "    cat = model.generate(inp, n, do_sample=False)\n",
    "sol = torch.sort(inp[0])[0]\n",
    "sol_candidate = cat[:, n:]\n",
    "print(\"input sequence  :\", inp.tolist())\n",
    "print(\"predicted sorted:\", sol_candidate.tolist())\n",
    "print(\"gt sort         :\", sol.tolist())\n",
    "print(\"matches         :\", bool((sol == sol_candidate).all()))"
   ]
  },
  {
   "cell_type": "code",
   "execution_count": null,
   "metadata": {},
   "outputs": [],
   "source": []
  }
 ],
 "metadata": {
  "kernelspec": {
   "display_name": ".venv",
   "language": "python",
   "name": "python3"
  },
  "language_info": {
   "codemirror_mode": {
    "name": "ipython",
    "version": 3
   },
   "file_extension": ".py",
   "mimetype": "text/x-python",
   "name": "python",
   "nbconvert_exporter": "python",
   "pygments_lexer": "ipython3",
   "version": "3.11.3"
  }
 },
 "nbformat": 4,
 "nbformat_minor": 2
}
