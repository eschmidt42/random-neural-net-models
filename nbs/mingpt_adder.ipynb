{
 "cells": [
  {
   "cell_type": "code",
   "execution_count": null,
   "metadata": {},
   "outputs": [],
   "source": [
    "%load_ext autoreload\n",
    "%autoreload 2"
   ]
  },
  {
   "cell_type": "code",
   "execution_count": null,
   "metadata": {},
   "outputs": [],
   "source": [
    "import torch\n",
    "from torch.utils.data.dataloader import DataLoader\n",
    "\n",
    "import random_neural_net_models.mingpt.adder as adder\n",
    "import random_neural_net_models.mingpt.model as gpt_model\n",
    "import random_neural_net_models.mingpt.trainer as trainer\n",
    "import random_neural_net_models.mingpt.utils as gpt_utils"
   ]
  },
  {
   "cell_type": "code",
   "execution_count": null,
   "metadata": {},
   "outputs": [],
   "source": [
    "data_config = adder.DataConfig(ndigit=2)"
   ]
  },
  {
   "cell_type": "code",
   "execution_count": null,
   "metadata": {},
   "outputs": [],
   "source": [
    "# construct train and test datasets\n",
    "train_dataset = adder.AdditionDataset(data_config, split=\"train\")\n",
    "test_dataset = adder.AdditionDataset(data_config, split=\"test\")"
   ]
  },
  {
   "cell_type": "code",
   "execution_count": null,
   "metadata": {},
   "outputs": [],
   "source": [
    "# get default config and overrides from the command line, if any\n",
    "config = adder.get_config(\n",
    "    vocab_size=train_dataset.get_vocab_size(),\n",
    "    block_size=train_dataset.get_block_size(),\n",
    "    max_iters=100,\n",
    ")\n",
    "\n",
    "print(config)"
   ]
  },
  {
   "cell_type": "code",
   "execution_count": null,
   "metadata": {},
   "outputs": [],
   "source": [
    "# gpt_utils.setup_logging(config)\n",
    "gpt_utils.set_seed(config.system.seed)"
   ]
  },
  {
   "cell_type": "code",
   "execution_count": null,
   "metadata": {},
   "outputs": [],
   "source": [
    "model = gpt_model.GPT(config.model)"
   ]
  },
  {
   "cell_type": "code",
   "execution_count": null,
   "metadata": {},
   "outputs": [],
   "source": [
    "# construct the trainer object\n",
    "trainer = trainer.Trainer(config.trainer, model, train_dataset)"
   ]
  },
  {
   "cell_type": "code",
   "execution_count": null,
   "metadata": {},
   "outputs": [],
   "source": [
    "# helper function for the evaluation of a model\n",
    "\n",
    "\n",
    "def eval_split(trainer, split, max_batches=None):\n",
    "    dataset = {\"train\": train_dataset, \"test\": test_dataset}[split]\n",
    "    ndigit = config.data.ndigit\n",
    "    results = []\n",
    "    mistakes_printed_already = 0\n",
    "    factors = torch.tensor([[10**i for i in range(ndigit + 1)][::-1]]).to(\n",
    "        trainer.device\n",
    "    )\n",
    "    loader = DataLoader(dataset, batch_size=100, num_workers=0, drop_last=False)\n",
    "    for b, (x, y) in enumerate(loader):\n",
    "        x = x.to(trainer.device)\n",
    "        # isolate the first two digits of the input sequence alone\n",
    "        d1d2 = x[:, : ndigit * 2]\n",
    "        # let the model sample the rest of the sequence\n",
    "        d1d2d3 = model.generate(\n",
    "            d1d2, ndigit + 1, do_sample=False\n",
    "        )  # using greedy argmax, not sampling\n",
    "        # isolate the last digit of the sampled sequence\n",
    "        d3 = d1d2d3[:, -(ndigit + 1) :]\n",
    "        d3 = d3.flip(1)  # reverse the digits to their \"normal\" order\n",
    "        # decode the integers from individual digits\n",
    "        d1i = (d1d2[:, :ndigit] * factors[:, 1:]).sum(1)\n",
    "        d2i = (d1d2[:, ndigit : ndigit * 2] * factors[:, 1:]).sum(1)\n",
    "        d3i_pred = (d3 * factors).sum(1)\n",
    "        d3i_gt = d1i + d2i  # manually calculate the ground truth\n",
    "        # evaluate the correctness of the results in this batch\n",
    "        correct = (\n",
    "            d3i_pred == d3i_gt\n",
    "        ).cpu()  # Software 1.0 vs. Software 2.0 fight RIGHT on this line haha\n",
    "        for i in range(x.size(0)):\n",
    "            results.append(int(correct[i]))\n",
    "            if (\n",
    "                not correct[i] and mistakes_printed_already < 5\n",
    "            ):  # only print up to 5 mistakes to get a sense\n",
    "                mistakes_printed_already += 1\n",
    "                print(\n",
    "                    \"GPT claims that %d + %d = %d but gt is %d\"\n",
    "                    % (d1i[i], d2i[i], d3i_pred[i], d3i_gt[i])\n",
    "                )\n",
    "        if max_batches is not None and b + 1 >= max_batches:\n",
    "            break\n",
    "\n",
    "    rt = torch.tensor(results, dtype=torch.float)\n",
    "    print(\n",
    "        \"%s final score: %d/%d = %.2f%% correct\"\n",
    "        % (split, rt.sum(), len(results), 100 * rt.mean())\n",
    "    )\n",
    "    return rt.sum()"
   ]
  },
  {
   "cell_type": "code",
   "execution_count": null,
   "metadata": {},
   "outputs": [],
   "source": [
    "# iteration callback\n",
    "\n",
    "\n",
    "def batch_end_callback(trainer):\n",
    "    if trainer.iter_num % 10 == 0:\n",
    "        print(\n",
    "            f\"iter_dt {trainer.iter_dt * 1000:.2f}ms; iter {trainer.iter_num}: train loss {trainer.loss.item():.5f}\"\n",
    "        )\n",
    "\n",
    "    model.train()\n",
    "\n",
    "\n",
    "trainer.set_callback(\"on_batch_end\", batch_end_callback)"
   ]
  },
  {
   "cell_type": "code",
   "execution_count": null,
   "metadata": {},
   "outputs": [],
   "source": [
    "# run the optimization\n",
    "trainer.run()"
   ]
  },
  {
   "cell_type": "code",
   "execution_count": null,
   "metadata": {},
   "outputs": [],
   "source": [
    "for x, y in test_dataset:\n",
    "    print(f\"x: {x}\")\n",
    "    print(f\"y: {y}\")\n",
    "    pred = model.generate(x.unsqueeze(0), 3, do_sample=False)\n",
    "    print(f\"pred: {pred}\")\n",
    "    break"
   ]
  },
  {
   "cell_type": "code",
   "execution_count": null,
   "metadata": {},
   "outputs": [],
   "source": []
  }
 ],
 "metadata": {
  "kernelspec": {
   "display_name": ".venv",
   "language": "python",
   "name": "python3"
  },
  "language_info": {
   "codemirror_mode": {
    "name": "ipython",
    "version": 3
   },
   "file_extension": ".py",
   "mimetype": "text/x-python",
   "name": "python",
   "nbconvert_exporter": "python",
   "pygments_lexer": "ipython3",
   "version": "3.11.3"
  }
 },
 "nbformat": 4,
 "nbformat_minor": 2
}
